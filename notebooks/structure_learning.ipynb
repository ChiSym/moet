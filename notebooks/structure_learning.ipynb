{
 "cells": [
  {
   "cell_type": "markdown",
   "id": "b251a85d-8ce9-4947-997b-faa8437648e1",
   "metadata": {},
   "source": [
    "# MOET structure learning via variational inference"
   ]
  },
  {
   "cell_type": "markdown",
   "id": "e5c5cb56-3668-4652-8316-3d90477b4fe5",
   "metadata": {},
   "source": [
    "We start with an unnormalized measure, whose density we have access to: \n",
    "$$\n",
    "\\begin{align}\n",
    "&P(\\cdot, x; w) :: M~\\mathcal{R} \\\\\n",
    "&P(\\cdot, x; w) = \\textbf{do}\\{r \\sim \\text{Unif}(...);~z = f(r);~\\textbf{return}~R(z; w, x)\\} \\\\\n",
    "\\end{align}\n",
    "$$\n",
    "\n",
    "where $\\text{Unif}(...)$ is a uniform prior over _tree construction_ ($r$), $f$ is the _set + layer function_ (which constructs a tree) and $R$ is a reward function, which assigns 0 to invalid trees, or otherwise returns the _score of the data $x$_ using probabilistic circuit with tree structure $z$ and weights $w$.\n",
    "\n",
    "## Variational inference\n",
    "\n",
    "We seek to learn a proposal over tree structure using variational inference. We construct two gradient estimators, starting with the objective, and arriving at the evidence lower bound (ELBO):\n",
    "\n",
    "$$L(w, \\theta; x) = \\log P(x; w) = \\log E_{r \\sim Q(\\cdot; \\theta)}[\\frac{P(r, x; w)}{ Q(r; \\theta)}] \\geq \\underbrace{E_{r \\sim Q(\\cdot; \\theta)}[\\log P(r, x; w) - \\log Q(r; \\theta)]}_{ELBO}$$\n",
    "\n",
    "Let $R'(r; w, x) = R(f(r); w, z)$, and $\\mathcal{L}(r, w, \\theta; x) = \\log P(r, x; w) - \\log Q(r; \\theta)$. From the ELBO, we derive two estimators:\n",
    "\n",
    "$$\n",
    "\\begin{align}\n",
    "\\nabla_w L(w, \\theta; x) &= E_{r \\sim Q(θ)}[\\nabla_w \\log R'(z; w, x)] \\\\\n",
    "\\nabla_\\theta L(w, \\theta; x) &= E_{r \\sim Q(\\theta)}[\\nabla_\\theta \\mathcal{L}(r; w, \\theta, x) + \\mathcal{L}(r; w, \\theta, x) \\times \\nabla_\\theta \\log Q(r; \\theta)]\n",
    "\\end{align}\n",
    "$$"
   ]
  },
  {
   "cell_type": "code",
   "execution_count": null,
   "id": "1fe4d091-9bf6-4981-86d7-81444c7887c5",
   "metadata": {},
   "outputs": [],
   "source": []
  }
 ],
 "metadata": {
  "kernelspec": {
   "display_name": "Python 3 (ipykernel)",
   "language": "python",
   "name": "python3"
  },
  "language_info": {
   "codemirror_mode": {
    "name": "ipython",
    "version": 3
   },
   "file_extension": ".py",
   "mimetype": "text/x-python",
   "name": "python",
   "nbconvert_exporter": "python",
   "pygments_lexer": "ipython3",
   "version": "3.13.2"
  }
 },
 "nbformat": 4,
 "nbformat_minor": 5
}
