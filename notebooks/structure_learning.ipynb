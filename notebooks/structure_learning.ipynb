{
 "cells": [
  {
   "cell_type": "markdown",
   "id": "b251a85d-8ce9-4947-997b-faa8437648e1",
   "metadata": {},
   "source": [
    "# Hierarchical variational structure learning"
   ]
  },
  {
   "cell_type": "markdown",
   "id": "49f3922e-9a6e-4345-bb83-6abd24505ea4",
   "metadata": {},
   "source": [
    "See appendix for details.\n",
    "\n",
    "$\\texttt{log\\_R} :: (Z, R, \\mathbb{R}^N) \\rightarrow \\mathbb{R}$\n",
    "\n",
    "$\\texttt{log\\_Q} :: (Z, R, \\mathbb{R}^K) \\rightarrow \\mathbb{R}$\n",
    "\n",
    "$\\texttt{log\\_Qp} :: (Z, R) \\rightarrow \\mathbb{R}$\n",
    "\n",
    "Assumed usage: first sample $(z, r) \\sim Q$ and then use $\\texttt{grad\\_w}$ and $\\texttt{grad\\_}\\theta$."
   ]
  },
  {
   "cell_type": "code",
   "execution_count": 10,
   "id": "7a14c651-21af-4bec-9383-df516332fb21",
   "metadata": {},
   "outputs": [],
   "source": [
    "from jax import grad\n",
    "\n",
    "def grad_w(z, r, log_R, w):\n",
    "    def _log_R(w):\n",
    "        return log_R(z, x, w)\n",
    "        \n",
    "    return jax.grad(_log_R)(w)\n",
    "\n",
    "def grad_theta(z, r, log_R, log_Q, log_Qp, w, θ):\n",
    "    def L(θ):\n",
    "        # R * Qp (meta) on top\n",
    "        # Q on the bottom.\n",
    "        # Assume: Qp doesn't depend on theta -- add a theta\n",
    "        # to Qp if this is wrong.\n",
    "        return log_R(z, r, w) + log_Qp(r, z) - log_Q(z, r, θ)\n",
    "\n",
    "    grad_L = jax.grad(L)\n",
    "\n",
    "    def log_Q(θ):\n",
    "        return log_Q(z, r, θ)\n",
    "\n",
    "    grad_log_Q = jax.grad(log_Q)\n",
    "    \n",
    "    return grad_L(θ) + L(θ) * grad_log_Q(θ)"
   ]
  }
 ],
 "metadata": {
  "kernelspec": {
   "display_name": "Python 3 (ipykernel)",
   "language": "python",
   "name": "python3"
  },
  "language_info": {
   "codemirror_mode": {
    "name": "ipython",
    "version": 3
   },
   "file_extension": ".py",
   "mimetype": "text/x-python",
   "name": "python",
   "nbconvert_exporter": "python",
   "pygments_lexer": "ipython3",
   "version": "3.13.2"
  }
 },
 "nbformat": 4,
 "nbformat_minor": 5
}
