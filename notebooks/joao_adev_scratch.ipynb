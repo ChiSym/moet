{
 "cells": [
  {
   "cell_type": "code",
   "execution_count": 72,
   "id": "41b27501-f310-4099-bd97-2550cfbc5d8f",
   "metadata": {},
   "outputs": [],
   "source": [
    "from genjax import adev\n",
    "from jax import make_jaxpr\n",
    "import jax\n",
    "from jaxtyping import Array\n",
    "import jax.numpy as jnp\n",
    "import jaxtyping\n",
    "\n",
    "from genjax.adev import reinforce\n",
    "\n",
    "from tensorflow_probability.substrates import jax as tfp\n",
    "tfd = tfp.distributions\n",
    "\n",
    "def cat_logpdf(v, logits):\n",
    "    return tfd.Categorical(logits=logits).log_prob(v)\n",
    "\n",
    "cat_reinforce = reinforce(\n",
    "    lambda key, logits: tfd.Categorical(logits=logits).sample(seed=key),\n",
    "    cat_logpdf,\n",
    ")"
   ]
  },
  {
   "cell_type": "code",
   "execution_count": 73,
   "id": "a78add60-c210-4566-a15e-5a4af779dffa",
   "metadata": {},
   "outputs": [],
   "source": [
    "# random maximum spanning tree\n",
    "# θ is a matrix of size N^2 (N is number of leaves in tree).\n",
    "# assume N is power of 2 -- at each step, you flatten θ,\n",
    "# and sample an index from a categorical, this is the inner node \n",
    "#\n",
    "# once you do that, you zero out the entire row and the entire column \n",
    "# for the 2 indices you got -- then continue in this loop.\n",
    "# \n",
    "# That's one layer -- then there's an outer loop that \n",
    "# merges the theta to do higher layers.\n",
    "#\n",
    "# It's agglomerative clustering."
   ]
  },
  {
   "cell_type": "code",
   "execution_count": 74,
   "id": "7fed9eb6-892c-4606-b5d1-8cba77aa4c08",
   "metadata": {},
   "outputs": [],
   "source": [
    "def sample(θ, N):\n",
    "    logits = θ.flatten()\n",
    "    idx = cat_reinforce(logits)\n",
    "    # N * first_idx + snd_idx\n",
    "    first_idx = idx // N\n",
    "    snd_idx = jnp.mod(idx, N)\n",
    "    mask = jnp.zeros((N, N))\n",
    "    mask = mask.at[:, snd_idx].set(1.0)\n",
    "    mask = mask.at[first_idx, :].set(1.0)\n",
    "    new_θ = jnp.where(mask, -jnp.inf, θ)\n",
    "    new_θ = new_θ - jax.nn.logsumexp(new_θ)\n",
    "    return (first_idx, snd_idx), new_θ\n",
    "\n",
    "@adev.expectation\n",
    "def fn(θ: jaxtyping.Float[Array, \"N N\"]):\n",
    "    list_of_pair_idxs = []\n",
    "    N = jnp.shape(θ)[0]\n",
    "    new_θ = θ\n",
    "    for _ in range(int(N / 2)):\n",
    "        (idx_1, idx_2), new_θ = sample(new_θ, N)\n",
    "        list_of_pair_idxs.append((idx_1, idx_2))\n",
    "    logits = jnp.array([θ[idx1, idx2] for (idx1, idx2) in list_of_pair_idxs])\n",
    "    return jnp.sum(logits)"
   ]
  },
  {
   "cell_type": "code",
   "execution_count": 77,
   "id": "a0155a2b-231b-4dac-b6c5-666583c86658",
   "metadata": {},
   "outputs": [
    {
     "data": {
      "text/plain": [
       "Array([[0.09098557, 0.04912024, 0.04733415, 0.0871511 , 0.0565511 ,\n",
       "        0.06521481, 0.07132715, 0.05616816],\n",
       "       [0.05592084, 0.0474706 , 0.06093879, 0.04676947, 0.05416715,\n",
       "        0.05473091, 0.05415608, 0.08028414],\n",
       "       [0.05597848, 0.08226778, 0.0634108 , 0.08944299, 0.07387813,\n",
       "        0.0818228 , 0.06331954, 0.06372511],\n",
       "       [0.06554484, 0.06269173, 0.06040351, 0.06267195, 0.04168061,\n",
       "        0.06291707, 0.05631427, 0.06895594],\n",
       "       [0.07168492, 0.05756315, 0.05186746, 0.0650251 , 0.06496514,\n",
       "        0.04712012, 0.05578597, 0.06645662],\n",
       "       [0.03733051, 0.05027314, 0.05912687, 0.04585521, 0.07194045,\n",
       "        0.09018002, 0.05946372, 0.05192142],\n",
       "       [0.05699509, 0.0856982 , 0.0548017 , 0.05940758, 0.03715845,\n",
       "        0.03742853, 0.05359431, 0.051717  ],\n",
       "       [0.07507776, 0.05132079, 0.08457854, 0.07906983, 0.07822269,\n",
       "        0.06677518, 0.07489506, 0.07338294]], dtype=float32)"
      ]
     },
     "execution_count": 77,
     "metadata": {},
     "output_type": "execute_result"
    }
   ],
   "source": [
    "θ = jnp.ones((8, 8), dtype=float)\n",
    "key = jax.random.key(1)\n",
    "sub_keys = jax.random.split(key, 10000)\n",
    "(θ_grads, ) = jax.vmap(fn.grad_estimate, in_axes=(0, None))(sub_keys, (θ, ))\n",
    "jnp.mean(θ_grads, axis=0)"
   ]
  },
  {
   "cell_type": "code",
   "execution_count": null,
   "id": "75c414e2-188c-4dbf-8b15-7a69978b22a5",
   "metadata": {},
   "outputs": [],
   "source": []
  }
 ],
 "metadata": {
  "kernelspec": {
   "display_name": "Python 3 (ipykernel)",
   "language": "python",
   "name": "python3"
  },
  "language_info": {
   "codemirror_mode": {
    "name": "ipython",
    "version": 3
   },
   "file_extension": ".py",
   "mimetype": "text/x-python",
   "name": "python",
   "nbconvert_exporter": "python",
   "pygments_lexer": "ipython3",
   "version": "3.13.2"
  }
 },
 "nbformat": 4,
 "nbformat_minor": 5
}
